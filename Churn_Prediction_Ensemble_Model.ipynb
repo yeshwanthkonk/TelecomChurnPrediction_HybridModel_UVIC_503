{
  "nbformat": 4,
  "nbformat_minor": 0,
  "metadata": {
    "colab": {
      "provenance": [],
      "gpuType": "T4",
      "authorship_tag": "ABX9TyP83g5FdC2Q8h6A9yR7HbHO",
      "include_colab_link": true
    },
    "kernelspec": {
      "name": "python3",
      "display_name": "Python 3"
    },
    "language_info": {
      "name": "python"
    },
    "accelerator": "GPU"
  },
  "cells": [
    {
      "cell_type": "markdown",
      "metadata": {
        "id": "view-in-github",
        "colab_type": "text"
      },
      "source": [
        "<a href=\"https://colab.research.google.com/github/yeshwanthkonk/TelecomChurnPrediction_HybridModel_UVIC_503/blob/main/Churn_Prediction_Ensemble_Model.ipynb\" target=\"_parent\"><img src=\"https://colab.research.google.com/assets/colab-badge.svg\" alt=\"Open In Colab\"/></a>"
      ]
    },
    {
      "cell_type": "code",
      "execution_count": null,
      "metadata": {
        "id": "go18F7BFYmCT"
      },
      "outputs": [],
      "source": [
        "import pickle\n",
        "import pandas as pd\n",
        "import numpy as np\n",
        "from sklearn.naive_bayes import MultinomialNB\n",
        "from sklearn.neural_network import MLPClassifier\n",
        "from sklearn.svm import LinearSVC\n",
        "import os\n",
        "import time\n",
        "import matplotlib.pyplot as plt\n",
        "import json\n",
        "from sklearn.metrics import classification_report\n",
        "\n",
        "\n",
        "from sklearn.metrics import (\n",
        "    accuracy_score,\n",
        "    precision_recall_fscore_support,\n",
        "    roc_auc_score,\n",
        "    average_precision_score,\n",
        "    roc_curve,\n",
        "    precision_recall_curve\n",
        ")"
      ]
    },
    {
      "cell_type": "markdown",
      "source": [
        "## Load Data"
      ],
      "metadata": {
        "id": "GdWtH0feaYjn"
      }
    },
    {
      "cell_type": "code",
      "source": [
        "from google.colab import drive\n",
        "drive.mount('/content/drive')\n",
        "\n",
        "# load dataset from CSV\n",
        "df = pd.read_csv('/content/drive/MyDrive/Collab_Files/Churn_Prediction/WA_Fn-UseC_-Telco-Customer-Churn.csv')\n",
        "df_LR = df.copy()\n",
        "df_DT = df.copy()\n",
        "X = df.drop(columns=\"Churn\")\n",
        "y = df[\"Churn\"]\n",
        "y = y.map({'Yes': 1, 'No': 0})\n",
        "\n",
        "with open(\"/content/drive/MyDrive/Collab_Files/Churn_Prediction/cross_validation_split.json\", \"r\") as f:\n",
        "    cv_data = json.load(f)"
      ],
      "metadata": {
        "id": "o3a5736uZ2Vf",
        "colab": {
          "base_uri": "https://localhost:8080/"
        },
        "outputId": "09c01041-63b8-4fd3-b788-f390170869f2"
      },
      "execution_count": null,
      "outputs": [
        {
          "output_type": "stream",
          "name": "stdout",
          "text": [
            "Drive already mounted at /content/drive; to attempt to forcibly remount, call drive.mount(\"/content/drive\", force_remount=True).\n"
          ]
        }
      ]
    },
    {
      "cell_type": "markdown",
      "source": [
        "## Preproccess Data"
      ],
      "metadata": {
        "id": "f9ErIB_maaXg"
      }
    },
    {
      "cell_type": "code",
      "source": [
        "from sklearn.preprocessing import MinMaxScaler\n",
        "from sklearn.preprocessing import LabelEncoder\n",
        "\n",
        "def encode_data(df, df_y, ordinal):\n",
        "  # Drop extraneous columns\n",
        "  df = df.drop(columns=[c for c in ['Phone','Churn','customerID'] if c in df.columns])\n",
        "\n",
        "  # Convert false objects to float\n",
        "  df[\"TotalCharges\"] = pd.to_numeric(df[\"TotalCharges\"], errors='coerce')\n",
        "\n",
        "  if ordinal:\n",
        "    df[\"Contract\"] = df[\"Contract\"].map({\"Month-to-month\": 0, \"One year\": 1, \"Two year\": 2})\n",
        "\n",
        "  # Drop Missing Value + and drop those rows for labels\n",
        "  original_index = df.index\n",
        "  df = df.dropna()\n",
        "  dropped_idx = original_index.difference(df.index)\n",
        "  df_y = df_y.drop(index=dropped_idx)\n",
        "\n",
        "  # Get categorical columns (excluding customerID which is just an identifier)\n",
        "  categorical_cols = df.select_dtypes(include=['object']).columns.tolist()\n",
        "\n",
        "  # Create a copy of the dataframe for encoding and remove null data\n",
        "  df_encoded = df.copy()\n",
        "\n",
        "  # Method 1: Label Encoding for binary categorical variables\n",
        "  binary_categorical = []\n",
        "  multi_categorical = []\n",
        "\n",
        "  # Identify binary vs multi-category variables\n",
        "  for col in categorical_cols:\n",
        "      unique_values = df[col].nunique()\n",
        "      if unique_values == 2:\n",
        "          binary_categorical.append(col)\n",
        "      else:\n",
        "          multi_categorical.append(col)\n",
        "\n",
        "  # Apply Label Encoding to binary categorical variables\n",
        "  label_encoders = {}\n",
        "  for col in binary_categorical:\n",
        "      le = LabelEncoder()\n",
        "      df_encoded[col] = le.fit_transform(df[col])\n",
        "      label_encoders[col] = le\n",
        "\n",
        "  # Method 2: One-Hot Encoding for multi-categorical variables\n",
        "  if multi_categorical:\n",
        "      df_encoded = pd.get_dummies(df_encoded, columns=multi_categorical, prefix=multi_categorical, drop_first=True)\n",
        "\n",
        "  bool_cols = df_encoded.select_dtypes(include='bool').columns\n",
        "  df_encoded[bool_cols] = df_encoded[bool_cols].astype(int)\n",
        "\n",
        "  return df_encoded, df_y\n",
        "\n",
        "def scale_data(train_np, test_np):\n",
        "  # Apply Min-Max scaling to range [-1, 1]\n",
        "  scaler = MinMaxScaler(feature_range=(-1, 1))\n",
        "  train_scaled_np = scaler.fit_transform(train_np)\n",
        "  test_scaled_np = scaler.transform(test_np)\n",
        "\n",
        "  return train_scaled_np, test_scaled_np\n",
        "\n",
        "X, y = encode_data(X, y, False)\n",
        "X = X.values\n",
        "y = y.values"
      ],
      "metadata": {
        "id": "1xb_c2vwaXa-"
      },
      "execution_count": null,
      "outputs": []
    },
    {
      "cell_type": "code",
      "source": [
        "folds = cv_data[\"folds\"]\n",
        "test_indices = cv_data[\"test_indices\"]\n",
        "\n",
        "X_test = X[test_indices]\n",
        "y_test = y[test_indices]\n",
        "\n",
        "train_indices = folds[1][0] + folds[1][1]\n",
        "\n",
        "X_train = X[train_indices]\n",
        "y_train = y[train_indices]\n",
        "\n",
        "X_train_scaled, X_test_scaled = scale_data(X_train, X_test)"
      ],
      "metadata": {
        "id": "atIBzo4_Zyi4"
      },
      "execution_count": null,
      "outputs": []
    },
    {
      "cell_type": "markdown",
      "source": [
        "## Decision Tree Predictions"
      ],
      "metadata": {
        "id": "ylX8Sx_VbAgZ"
      }
    },
    {
      "cell_type": "code",
      "source": [
        "\n",
        "\n",
        "# Convert 'TotalCharges' to numeric (force errors to NaN)\n",
        "df_DT['TotalCharges'] = pd.to_numeric(df_DT['TotalCharges'], errors='coerce')\n",
        "\n",
        "# Drop rows with missing TotalCharges\n",
        "df_DT.dropna(subset=['TotalCharges'], inplace=True)\n",
        "\n",
        "# Reset index after drop\n",
        "df_DT.reset_index(drop=True, inplace=True)\n",
        "\n",
        "# Drop irrelevant columns\n",
        "df_DT.drop(['customerID'], axis=1, inplace=True)\n",
        "\n",
        "\n",
        "# Encode target variable\n",
        "df_DT['Churn'] = df_DT['Churn'].map({'No': 0, 'Yes': 1})\n",
        "\n",
        "# One-hot encode categorical features (drop first to avoid multicollinearity)\n",
        "df_DT = pd.get_dummies(df_DT, drop_first=True)\n",
        "\n",
        "\n",
        "X_DT= df_DT.drop('Churn', axis=1)\n",
        "y_DT = df_DT['Churn']\n",
        "\n",
        "\n",
        "filename = f'/content/drive/MyDrive/Collab_Files/Churn_Prediction/decision_tree_model.pkl'\n",
        "with open(filename, 'rb') as f:\n",
        "    decision_tree = pickle.load(f)\n",
        "\n",
        "y_pred_dt = decision_tree.predict(X_DT.iloc[test_indices])\n",
        "print(classification_report(y_test, y_pred_dt))"
      ],
      "metadata": {
        "id": "yYmkZkwYaW3I",
        "colab": {
          "base_uri": "https://localhost:8080/"
        },
        "outputId": "8f1e686a-d287-4b89-a04f-57acda1f385e"
      },
      "execution_count": null,
      "outputs": [
        {
          "output_type": "stream",
          "name": "stdout",
          "text": [
            "   SeniorCitizen  tenure  MonthlyCharges  TotalCharges  Churn  gender_Male  \\\n",
            "0              0       1           29.85         29.85      0        False   \n",
            "1              0      34           56.95       1889.50      0         True   \n",
            "2              0       2           53.85        108.15      1         True   \n",
            "3              0      45           42.30       1840.75      0         True   \n",
            "4              0       2           70.70        151.65      1        False   \n",
            "\n",
            "   Partner_Yes  Dependents_Yes  PhoneService_Yes  \\\n",
            "0         True           False             False   \n",
            "1        False           False              True   \n",
            "2        False           False              True   \n",
            "3        False           False             False   \n",
            "4        False           False              True   \n",
            "\n",
            "   MultipleLines_No phone service  ...  StreamingTV_No internet service  \\\n",
            "0                            True  ...                            False   \n",
            "1                           False  ...                            False   \n",
            "2                           False  ...                            False   \n",
            "3                            True  ...                            False   \n",
            "4                           False  ...                            False   \n",
            "\n",
            "   StreamingTV_Yes  StreamingMovies_No internet service  StreamingMovies_Yes  \\\n",
            "0            False                                False                False   \n",
            "1            False                                False                False   \n",
            "2            False                                False                False   \n",
            "3            False                                False                False   \n",
            "4            False                                False                False   \n",
            "\n",
            "   Contract_One year  Contract_Two year  PaperlessBilling_Yes  \\\n",
            "0              False              False                  True   \n",
            "1               True              False                 False   \n",
            "2              False              False                  True   \n",
            "3               True              False                 False   \n",
            "4              False              False                  True   \n",
            "\n",
            "   PaymentMethod_Credit card (automatic)  PaymentMethod_Electronic check  \\\n",
            "0                                  False                            True   \n",
            "1                                  False                           False   \n",
            "2                                  False                           False   \n",
            "3                                  False                           False   \n",
            "4                                  False                            True   \n",
            "\n",
            "   PaymentMethod_Mailed check  \n",
            "0                       False  \n",
            "1                        True  \n",
            "2                        True  \n",
            "3                       False  \n",
            "4                       False  \n",
            "\n",
            "[5 rows x 31 columns]\n",
            "              precision    recall  f1-score   support\n",
            "\n",
            "           0       0.93      0.73      0.82      1026\n",
            "           1       0.54      0.85      0.66       381\n",
            "\n",
            "    accuracy                           0.76      1407\n",
            "   macro avg       0.73      0.79      0.74      1407\n",
            "weighted avg       0.82      0.76      0.77      1407\n",
            "\n"
          ]
        }
      ]
    },
    {
      "cell_type": "markdown",
      "source": [
        "## Random Forest Predictions"
      ],
      "metadata": {
        "id": "mgzIQRjnb8N5"
      }
    },
    {
      "cell_type": "code",
      "source": [
        "filename = f'/content/drive/MyDrive/Collab_Files/Churn_Prediction/best_random_forest_model.pkl'\n",
        "with open(filename, 'rb') as f:\n",
        "    random_forest = pickle.load(f)\n",
        "\n",
        "y_pred_rf = random_forest.predict(X_test_scaled)\n",
        "print(classification_report(y_test, y_pred_rf))"
      ],
      "metadata": {
        "id": "SYT4tN8nb4tq",
        "colab": {
          "base_uri": "https://localhost:8080/"
        },
        "outputId": "9e3de783-29b4-47e0-c070-ce9cf6c9c5e2"
      },
      "execution_count": null,
      "outputs": [
        {
          "output_type": "stream",
          "name": "stdout",
          "text": [
            "              precision    recall  f1-score   support\n",
            "\n",
            "           0       0.84      0.93      0.88      1026\n",
            "           1       0.73      0.53      0.61       381\n",
            "\n",
            "    accuracy                           0.82      1407\n",
            "   macro avg       0.79      0.73      0.75      1407\n",
            "weighted avg       0.81      0.82      0.81      1407\n",
            "\n"
          ]
        },
        {
          "output_type": "stream",
          "name": "stderr",
          "text": [
            "/usr/local/lib/python3.11/dist-packages/sklearn/utils/validation.py:2739: UserWarning: X does not have valid feature names, but RandomForestClassifier was fitted with feature names\n",
            "  warnings.warn(\n"
          ]
        }
      ]
    },
    {
      "cell_type": "markdown",
      "source": [
        "## Logistic Regression Prediction"
      ],
      "metadata": {
        "id": "zUXfsNCDcXIj"
      }
    },
    {
      "cell_type": "code",
      "source": [
        "from sklearn.preprocessing import StandardScaler\n",
        "# --- Data Cleaning and Preprocessing ---\n",
        "# Drop the unique customer ID as it's not a predictive feature\n",
        "df_LR = df_LR.drop(\"customerID\", axis=1)\n",
        "\n",
        "df_LR['TotalCharges'] = pd.to_numeric(df_LR['TotalCharges'], errors='coerce')\n",
        "df_LR.dropna(inplace=True)\n",
        "\n",
        "# 'Churn' to binary (1 for 'Yes', 0 for 'No')\n",
        "df_LR['Churn'] = df_LR['Churn'].apply(lambda x: 1 if x == 'Yes' else 0)\n",
        "\n",
        "X_LR = df_LR.drop('Churn', axis=1)\n",
        "\n",
        "# One-Hot Encode all categorical features\n",
        "X_LR = pd.get_dummies(X_LR, drop_first=True)\n",
        "print(\"Data preprocessing complete.\")\n",
        "\n",
        "X_LR_Train = X_LR.iloc[train_indices]\n",
        "X_LR_Test = X_LR.iloc[test_indices]\n",
        "\n",
        "# fit the scaler ONLY on the training data to prevent data leakage from the test set\n",
        "scaler = StandardScaler()\n",
        "X_train_scaled_LR = scaler.fit_transform(X_LR_Train)\n",
        "X_test_scaled_LR = scaler.transform(X_LR_Test)\n",
        "\n",
        "\n",
        "filename = f'/content/drive/MyDrive/Collab_Files/Churn_Prediction/best_logistic_regression_churn_model.pkl'\n",
        "with open(filename, 'rb') as f:\n",
        "    logistic_regression = pickle.load(f)\n",
        "\n",
        "y_pred_lr = logistic_regression.predict(X_test_scaled_LR)\n",
        "print(classification_report(y_test, y_pred_lr))\n",
        "y_scores_lr = logistic_regression.predict_proba(X_test_scaled_LR)[:,1]"
      ],
      "metadata": {
        "id": "b-be6mW7cZsq",
        "colab": {
          "base_uri": "https://localhost:8080/"
        },
        "outputId": "4102f6a3-6ad2-4980-a4a0-552ce95448f3"
      },
      "execution_count": null,
      "outputs": [
        {
          "output_type": "stream",
          "name": "stdout",
          "text": [
            "Data preprocessing complete.\n",
            "              precision    recall  f1-score   support\n",
            "\n",
            "           0       0.90      0.74      0.81      1026\n",
            "           1       0.53      0.77      0.63       381\n",
            "\n",
            "    accuracy                           0.75      1407\n",
            "   macro avg       0.71      0.76      0.72      1407\n",
            "weighted avg       0.80      0.75      0.76      1407\n",
            "\n"
          ]
        }
      ]
    },
    {
      "cell_type": "markdown",
      "source": [
        "## Neural Network Prediction"
      ],
      "metadata": {
        "id": "S5LnI92BcmED"
      }
    },
    {
      "cell_type": "code",
      "source": [
        "import torch\n",
        "import torch.nn as nn\n",
        "import torch.optim as optim\n",
        "from torch.utils.data import TensorDataset, DataLoader\n",
        "from sklearn.metrics import accuracy_score, recall_score, f1_score, confusion_matrix, classification_report\n",
        "\n",
        "class SimpleNet(nn.Module):\n",
        "    def __init__(self, input_dim):\n",
        "        super().__init__()\n",
        "        self.net = nn.Sequential(\n",
        "            nn.Linear(input_dim, 8),\n",
        "            nn.ReLU(),\n",
        "            nn.Linear(8, 8),\n",
        "            nn.ReLU(),\n",
        "            nn.Linear(8, 1)\n",
        "        )\n",
        "\n",
        "    def forward(self, x):\n",
        "        return self.net(x)\n",
        "\n",
        "device = torch.device(\"cuda\" if torch.cuda.is_available() else \"cpu\")\n",
        "\n",
        "model = SimpleNet(X_train_scaled.shape[1]).to(device)\n",
        "\n",
        "model.load_state_dict(torch.load('/content/drive/MyDrive/Collab_Files/Churn_Prediction/best_NN.pkl'))\n",
        "\n",
        "X_test_tensor = torch.tensor(X_test_scaled, dtype=torch.float32).to(device)\n",
        "\n",
        "model.eval()\n",
        "with torch.no_grad():\n",
        "    y_pred_logits = model(X_test_tensor)\n",
        "    y_pred_probs = torch.sigmoid(y_pred_logits)\n",
        "    y_pred = (y_pred_probs >= 0.5).int()\n",
        "\n",
        "y_scores_NN = y_pred_probs.cpu().numpy().reshape(-1)\n",
        "y_pred_NN = y_pred.cpu().numpy().reshape(-1)\n",
        "print(classification_report(y_test, y_pred_NN))"
      ],
      "metadata": {
        "id": "y6fdhFvPco9D",
        "colab": {
          "base_uri": "https://localhost:8080/"
        },
        "outputId": "0d9726da-a9c5-4a1c-cb52-df84bb751d40"
      },
      "execution_count": null,
      "outputs": [
        {
          "output_type": "stream",
          "name": "stdout",
          "text": [
            "              precision    recall  f1-score   support\n",
            "\n",
            "           0       0.90      0.70      0.79      1026\n",
            "           1       0.50      0.79      0.61       381\n",
            "\n",
            "    accuracy                           0.73      1407\n",
            "   macro avg       0.70      0.75      0.70      1407\n",
            "weighted avg       0.79      0.73      0.74      1407\n",
            "\n"
          ]
        }
      ]
    },
    {
      "cell_type": "code",
      "source": [
        "# Pair wise model similarity\n",
        "from sklearn.metrics.pairwise import cosine_similarity\n",
        "all_preds = np.stack((y_pred_dt, y_pred_rf, y_pred_lr, y_pred_NN))\n",
        "\n",
        "similarity_matrix = cosine_similarity(all_preds)\n",
        "print(similarity_matrix.shape)"
      ],
      "metadata": {
        "id": "DTR0E2kVgEZ6",
        "colab": {
          "base_uri": "https://localhost:8080/"
        },
        "outputId": "4a90a2d4-7321-4d4f-8d62-1cbd756ff9ed"
      },
      "execution_count": null,
      "outputs": [
        {
          "output_type": "stream",
          "name": "stdout",
          "text": [
            "(4, 4)\n"
          ]
        }
      ]
    },
    {
      "cell_type": "code",
      "source": [
        "# Plot with labels\n",
        "import seaborn as sns\n",
        "import matplotlib.pyplot as plt\n",
        "\n",
        "sns.heatmap(similarity_matrix, annot=True, xticklabels=['DT', 'RF', 'LR', 'NN'], yticklabels=['DT','RF', 'LR', 'NN'])\n",
        "plt.title('Pairwise Prediction Similarity')\n",
        "plt.show()"
      ],
      "metadata": {
        "id": "E4ePKH2DhC9l",
        "colab": {
          "base_uri": "https://localhost:8080/",
          "height": 452
        },
        "outputId": "b79eeab4-b6f5-433d-c122-8c977866a746"
      },
      "execution_count": null,
      "outputs": [
        {
          "output_type": "display_data",
          "data": {
            "text/plain": [
              "<Figure size 640x480 with 2 Axes>"
            ],
            "image/png": "[encoded data removed]"
          },
          "metadata": {}
        }
      ]
    },
    {
      "cell_type": "markdown",
      "source": [
        "## Vote and Predict"
      ],
      "metadata": {
        "id": "hfWlSSZDf4_K"
      }
    },
    {
      "cell_type": "code",
      "source": [
        "all_preds = np.stack((y_pred_dt, y_pred_rf, y_pred_lr, y_pred_NN))\n",
        "votes = np.sum(all_preds, axis=0)\n",
        "\n",
        "final_preds = (votes >= 2).astype(int)\n",
        "\n",
        "# Find tie indices\n",
        "ties = (votes == 2)\n",
        "\n",
        "# Break ties using scores from Logistic Regression and NN\n",
        "# Use whichever has higher confidence (e.g., probability > 0.5)\n",
        "# If both agree, default to positive class (1)\n",
        "\n",
        "# Where ties exist, use score-based logic\n",
        "for i in np.where(ties)[0]:\n",
        "    # If the two scoring models agree then dont do anything\n",
        "    if y_pred_NN[i] == y_pred_lr[i]:\n",
        "        continue\n",
        "\n",
        "    # If they disagree then see which is more confident\n",
        "    else:\n",
        "      confidence_lr = abs(0.5 - y_scores_lr[i])\n",
        "      confidence_NN = abs(0.5 - y_scores_NN[i])\n",
        "      if confidence_lr < confidence_NN:\n",
        "        final_preds[i] = y_pred_NN[i]\n",
        "      else:\n",
        "        final_preds[i] = y_pred_lr[i]\n",
        "\n",
        "print(classification_report(y_test, final_preds))"
      ],
      "metadata": {
        "id": "pS5Ha5BUfRmZ",
        "colab": {
          "base_uri": "https://localhost:8080/"
        },
        "outputId": "7bcd94cb-06ea-4986-ae24-41a506f0d579"
      },
      "execution_count": null,
      "outputs": [
        {
          "output_type": "stream",
          "name": "stdout",
          "text": [
            "              precision    recall  f1-score   support\n",
            "\n",
            "           0       0.90      0.76      0.83      1026\n",
            "           1       0.55      0.76      0.64       381\n",
            "\n",
            "    accuracy                           0.76      1407\n",
            "   macro avg       0.72      0.76      0.73      1407\n",
            "weighted avg       0.80      0.76      0.77      1407\n",
            "\n"
          ]
        }
      ]
    },
    {
      "cell_type": "code",
      "source": [
        "#Confusion matrix\n",
        "from sklearn.metrics import confusion_matrix, ConfusionMatrixDisplay\n",
        "\n",
        "cm = confusion_matrix(y_test, final_preds)\n",
        "disp = ConfusionMatrixDisplay(confusion_matrix=cm, display_labels=[\"No Churn\", \"Churn\"])\n",
        "disp.plot(cmap='Blues')"
      ],
      "metadata": {
        "colab": {
          "base_uri": "https://localhost:8080/",
          "height": 466
        },
        "id": "NroKMtiuUE6X",
        "outputId": "b8f02c5c-e4e4-4037-ebe0-5b4d1c260502"
      },
      "execution_count": null,
      "outputs": [
        {
          "output_type": "execute_result",
          "data": {
            "text/plain": [
              "<sklearn.metrics._plot.confusion_matrix.ConfusionMatrixDisplay at 0x782808e07550>"
            ]
          },
          "metadata": {},
          "execution_count": 64
        },
        {
          "output_type": "display_data",
          "data": {
            "text/plain": [
              "<Figure size 640x480 with 2 Axes>"
            ],
            "image/png": "[encoded data removed]"
          },
          "metadata": {}
        }
      ]
    }
  ]
}