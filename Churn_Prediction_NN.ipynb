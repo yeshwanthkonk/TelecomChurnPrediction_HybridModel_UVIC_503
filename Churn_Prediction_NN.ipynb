{
  "cells": [
    {
      "cell_type": "markdown",
      "metadata": {
        "id": "view-in-github",
        "colab_type": "text"
      },
      "source": [
        "<a href=\"https://colab.research.google.com/github/yeshwanthkonk/TelecomChurnPrediction_HybridModel_UVIC_503/blob/main/Churn_Prediction_NN.ipynb\" target=\"_parent\"><img src=\"https://colab.research.google.com/assets/colab-badge.svg\" alt=\"Open In Colab\"/></a>"
      ]
    },
    {
      "cell_type": "markdown",
      "metadata": {
        "id": "xRf_M0pP_Eoo"
      },
      "source": [
        "## Data Loading\n"
      ]
    },
    {
      "cell_type": "code",
      "execution_count": null,
      "metadata": {
        "colab": {
          "base_uri": "https://localhost:8080/"
        },
        "id": "lPvcLWdRA9pS",
        "outputId": "3c990d88-ecbd-4445-faa1-31ad8e1ddcf6"
      },
      "outputs": [
        {
          "output_type": "stream",
          "name": "stdout",
          "text": [
            "Drive already mounted at /content/drive; to attempt to forcibly remount, call drive.mount(\"/content/drive\", force_remount=True).\n"
          ]
        }
      ],
      "source": [
        "import pandas as pd\n",
        "import json\n",
        "import numpy as np\n",
        "import os\n",
        "import random\n",
        "import torch\n",
        "\n",
        "from google.colab import drive\n",
        "drive.mount('/content/drive')\n",
        "\n",
        "# load dataset from CSV\n",
        "df = pd.read_csv('/content/drive/MyDrive/Collab_Files/Churn_Prediction/WA_Fn-UseC_-Telco-Customer-Churn.csv')\n",
        "X = df.drop(columns=\"Churn\")\n",
        "y = df[\"Churn\"]\n",
        "y = y.map({'Yes': 1, 'No': 0})\n",
        "\n",
        "with open(\"/content/drive/MyDrive/Collab_Files/Churn_Prediction/cross_validation_split.json\", \"r\") as f:\n",
        "    cv_data = json.load(f)"
      ]
    },
    {
      "cell_type": "code",
      "execution_count": null,
      "metadata": {
        "id": "NcuZZL3HY7Y4"
      },
      "outputs": [],
      "source": [
        "def set_all_seeds(seed=42):\n",
        "    random.seed(seed)\n",
        "    np.random.seed(seed)\n",
        "\n",
        "    torch.manual_seed(seed)\n",
        "    torch.cuda.manual_seed(seed)\n",
        "\n",
        "set_all_seeds()"
      ]
    },
    {
      "cell_type": "markdown",
      "metadata": {
        "id": "5XUMPTS1Blc8"
      },
      "source": [
        "## Data Partition"
      ]
    },
    {
      "cell_type": "code",
      "execution_count": null,
      "metadata": {
        "id": "rP4y3R5EBk02"
      },
      "outputs": [],
      "source": [
        "folds = cv_data[\"folds\"]\n",
        "test_indices = cv_data[\"test_indices\"]"
      ]
    },
    {
      "cell_type": "markdown",
      "metadata": {
        "id": "3pmNMo1e-_yU"
      },
      "source": [
        "## Data Processing"
      ]
    },
    {
      "cell_type": "code",
      "execution_count": null,
      "metadata": {
        "id": "cb2XP5gWCWq8"
      },
      "outputs": [],
      "source": [
        "from sklearn.preprocessing import MinMaxScaler\n",
        "from sklearn.preprocessing import LabelEncoder\n",
        "\n",
        "def encode_data(df, df_y, ordinal):\n",
        "  # Drop extraneous columns\n",
        "  df = df.drop(columns=[c for c in ['Phone','Churn','customerID'] if c in df.columns])\n",
        "\n",
        "  # Convert false objects to float\n",
        "  df[\"TotalCharges\"] = pd.to_numeric(df[\"TotalCharges\"], errors='coerce')\n",
        "\n",
        "  if ordinal:\n",
        "    df[\"Contract\"] = df[\"Contract\"].map({\"Month-to-month\": 0, \"One year\": 1, \"Two year\": 2})\n",
        "\n",
        "  # Drop Missing Value + and drop those rows for labels\n",
        "  original_index = df.index\n",
        "  df = df.dropna()\n",
        "  dropped_idx = original_index.difference(df.index)\n",
        "  df_y = df_y.drop(index=dropped_idx)\n",
        "\n",
        "  # Get categorical columns (excluding customerID which is just an identifier)\n",
        "  categorical_cols = df.select_dtypes(include=['object']).columns.tolist()\n",
        "\n",
        "  # Create a copy of the dataframe for encoding and remove null data\n",
        "  df_encoded = df.copy()\n",
        "\n",
        "  # Method 1: Label Encoding for binary categorical variables\n",
        "  binary_categorical = []\n",
        "  multi_categorical = []\n",
        "\n",
        "  # Identify binary vs multi-category variables\n",
        "  for col in categorical_cols:\n",
        "      unique_values = df[col].nunique()\n",
        "      if unique_values == 2:\n",
        "          binary_categorical.append(col)\n",
        "      else:\n",
        "          multi_categorical.append(col)\n",
        "\n",
        "  # Apply Label Encoding to binary categorical variables\n",
        "  label_encoders = {}\n",
        "  for col in binary_categorical:\n",
        "      le = LabelEncoder()\n",
        "      df_encoded[col] = le.fit_transform(df[col])\n",
        "      label_encoders[col] = le\n",
        "\n",
        "  # Method 2: One-Hot Encoding for multi-categorical variables\n",
        "  if multi_categorical:\n",
        "      df_encoded = pd.get_dummies(df_encoded, columns=multi_categorical, prefix=multi_categorical, drop_first=True)\n",
        "\n",
        "  bool_cols = df_encoded.select_dtypes(include='bool').columns\n",
        "  df_encoded[bool_cols] = df_encoded[bool_cols].astype(int)\n",
        "\n",
        "  return df_encoded, df_y\n",
        "\n",
        "def scale_data(train_np, test_np):\n",
        "  # Apply Min-Max scaling to range [-1, 1]\n",
        "  scaler = MinMaxScaler(feature_range=(-1, 1))\n",
        "  train_scaled_np = scaler.fit_transform(train_np)\n",
        "  test_scaled_np = scaler.transform(test_np)\n",
        "\n",
        "  return train_scaled_np, test_scaled_np\n",
        "\n",
        "X, y = encode_data(X, y, False)\n",
        "X = X.values\n",
        "y = y.values"
      ]
    },
    {
      "cell_type": "markdown",
      "metadata": {
        "id": "pItr3wr-LkFe"
      },
      "source": [
        "## Model Initialization"
      ]
    },
    {
      "cell_type": "code",
      "execution_count": null,
      "metadata": {
        "id": "377W-kRVLi7q"
      },
      "outputs": [],
      "source": [
        "import torch\n",
        "import torch.nn as nn\n",
        "import torch.optim as optim\n",
        "from torch.utils.data import TensorDataset, DataLoader\n",
        "from sklearn.metrics import accuracy_score, recall_score, f1_score, confusion_matrix, classification_report\n",
        "\n",
        "class SimpleNet(nn.Module):\n",
        "    def __init__(self, input_dim):\n",
        "        super().__init__()\n",
        "        self.net = nn.Sequential(\n",
        "            nn.Linear(input_dim, 8),\n",
        "            nn.ReLU(),\n",
        "            nn.Linear(8, 8),\n",
        "            nn.ReLU(),\n",
        "            nn.Linear(8, 1)\n",
        "        )\n",
        "\n",
        "    def forward(self, x):\n",
        "        return self.net(x)\n",
        "\n",
        "device = torch.device(\"cuda\" if torch.cuda.is_available() else \"cpu\")\n",
        "\n",
        "def train_model(model, criterion, optimizer, dataloader, epochs):\n",
        "    best_loss = float('inf')\n",
        "    patience_counter = 0\n",
        "    model.train()\n",
        "\n",
        "    for epoch in range(epochs):\n",
        "        # Track total loss of epoch\n",
        "        total_loss = 0.0\n",
        "        for xb, yb in dataloader:\n",
        "            optimizer.zero_grad()\n",
        "            preds = model(xb)\n",
        "            loss = criterion(preds, yb)\n",
        "            loss.backward()\n",
        "            optimizer.step()\n",
        "            total_loss += loss.item()\n",
        "        # Average loss of epoch\n",
        "        avg_loss = total_loss / len(dataloader)\n",
        "\n",
        "        # Check if model has converged\n",
        "        if avg_loss < best_loss - 1e-4:\n",
        "          best_loss = avg_loss\n",
        "          patience_counter = 0\n",
        "        else:\n",
        "          patience_counter += 1\n",
        "          if patience_counter >= 15:\n",
        "            #print(f\"Early stopping at epoch {epoch + 1}\")\n",
        "            break\n",
        "\n",
        "    return model\n",
        "\n",
        "def evaluate_model(model, x, y, print_cm):\n",
        "    model.eval()\n",
        "    with torch.no_grad():\n",
        "        y_pred_logits = model(x)\n",
        "        y_pred_probs = torch.sigmoid(y_pred_logits)\n",
        "        #y_pred_probs = model(x)\n",
        "        y_pred = (y_pred_probs >= 0.5).int()\n",
        "\n",
        "    y_true = y.cpu().numpy().astype(int)\n",
        "    y_pred = y_pred.cpu().numpy()\n",
        "\n",
        "    accuracy = accuracy_score(y_true, y_pred)\n",
        "    recall = recall_score(y_true, y_pred)\n",
        "    f1 = f1_score(y_true, y_pred)\n",
        "\n",
        "    cm = confusion_matrix(y_true, y_pred)\n",
        "    if print_cm:\n",
        "      print(\"Confusion Matrix:\")\n",
        "      print(cm)\n",
        "\n",
        "    return accuracy, recall, f1\n",
        "\n",
        "def model_classification_report(model, x, y):\n",
        "    model.eval()\n",
        "    with torch.no_grad():\n",
        "        y_pred_logits = model(x)\n",
        "        y_pred_probs = torch.sigmoid(y_pred_logits)\n",
        "        y_pred = (y_pred_probs >= 0.5).int()\n",
        "\n",
        "    y_true = y.cpu().numpy().astype(int)\n",
        "    y_pred = y_pred.cpu().numpy()\n",
        "\n",
        "    print(\"Classification Report:\")\n",
        "    print(classification_report(y_true, y_pred))\n",
        "\n",
        "\n",
        "def downsample(X, y):\n",
        "  class0_indices = np.where(y == 0)[0]\n",
        "  class1_indices = np.where(y == 1)[0]\n",
        "\n",
        "  # Calculate the number of samples to keep for each class\n",
        "  num_samples_to_keep = min(len(class0_indices), len(class1_indices))\n",
        "\n",
        "  # Randomly select indices from each class\n",
        "  class0_sampled = np.random.choice(class0_indices, num_samples_to_keep, replace=False)\n",
        "  class1_sampled = np.random.choice(class1_indices, num_samples_to_keep, replace=False)\n",
        "\n",
        "  # Combine the sampled indices\n",
        "  balanced_idx = np.concatenate([class0_sampled, class1_sampled])\n",
        "  np.random.shuffle(balanced_idx)\n",
        "\n",
        "  # Create the balanced dataset\n",
        "  X_balanced = X[balanced_idx]\n",
        "  y_balanced = y[balanced_idx]\n",
        "\n",
        "  return X_balanced, y_balanced"
      ]
    },
    {
      "cell_type": "markdown",
      "metadata": {
        "id": "h8oW7DBrE_cF"
      },
      "source": [
        "## Cross Validation"
      ]
    },
    {
      "cell_type": "code",
      "execution_count": null,
      "metadata": {
        "colab": {
          "base_uri": "https://localhost:8080/"
        },
        "id": "G5Yy8sYwFFCA",
        "outputId": "72d3a299-1e13-4acf-fd1d-a45f7c6bf2f5"
      },
      "outputs": [
        {
          "output_type": "stream",
          "name": "stderr",
          "text": [
            " 20%|██        | 1/5 [00:07<00:28,  7.11s/it]"
          ]
        },
        {
          "output_type": "stream",
          "name": "stdout",
          "text": [
            "Confusion Matrix:\n",
            "[[577 259]\n",
            " [ 51 238]]\n"
          ]
        },
        {
          "output_type": "stream",
          "name": "stderr",
          "text": [
            "\r 40%|████      | 2/5 [00:09<00:12,  4.14s/it]"
          ]
        },
        {
          "output_type": "stream",
          "name": "stdout",
          "text": [
            "Confusion Matrix:\n",
            "[[543 265]\n",
            " [ 62 255]]\n"
          ]
        },
        {
          "output_type": "stream",
          "name": "stderr",
          "text": [
            "\r 60%|██████    | 3/5 [00:11<00:06,  3.41s/it]"
          ]
        },
        {
          "output_type": "stream",
          "name": "stdout",
          "text": [
            "Confusion Matrix:\n",
            "[[564 255]\n",
            " [ 66 240]]\n"
          ]
        },
        {
          "output_type": "stream",
          "name": "stderr",
          "text": [
            "\r 80%|████████  | 4/5 [00:15<00:03,  3.64s/it]"
          ]
        },
        {
          "output_type": "stream",
          "name": "stdout",
          "text": [
            "Confusion Matrix:\n",
            "[[595 239]\n",
            " [ 70 221]]\n"
          ]
        },
        {
          "output_type": "stream",
          "name": "stderr",
          "text": [
            "100%|██████████| 5/5 [00:20<00:00,  4.20s/it]"
          ]
        },
        {
          "output_type": "stream",
          "name": "stdout",
          "text": [
            "Confusion Matrix:\n",
            "[[574 266]\n",
            " [ 49 236]]\n"
          ]
        },
        {
          "output_type": "stream",
          "name": "stderr",
          "text": [
            "\n"
          ]
        }
      ],
      "source": [
        "from sklearn.neural_network import MLPClassifier\n",
        "from tqdm import tqdm\n",
        "from sklearn.metrics import f1_score, recall_score\n",
        "features = list(range(X.shape[1]))\n",
        "accuracies = []\n",
        "f1s = []\n",
        "recalls = []\n",
        "\n",
        "for fold in tqdm(range(len(folds))):\n",
        "  # Partition Fold\n",
        "  train_idx = folds[fold][0]\n",
        "  val_idx = folds[fold][1]\n",
        "\n",
        "  # Get train set Indices and put into dataloader\n",
        "  X_train = X[train_idx][:, features]\n",
        "  y_train = y[train_idx]\n",
        "\n",
        "  # Try to downsample X_train\n",
        "  X_train, y_train = downsample(X_train, y_train)\n",
        "\n",
        "  X_val = X[val_idx][:, features]\n",
        "  y_val = y[val_idx]\n",
        "\n",
        "  # Scale Data using only train set\n",
        "  X_train_scaled, X_val_scaled = scale_data(X_train, X_val)\n",
        "\n",
        "  X_train_tensor = torch.tensor(X_train_scaled, dtype=torch.float32).to(device)\n",
        "  y_train_tensor = torch.tensor(y_train, dtype=torch.float32).unsqueeze(1).to(device)\n",
        "\n",
        "  subset = TensorDataset(X_train_tensor, y_train_tensor)\n",
        "  dataloader = DataLoader(subset, batch_size=512, shuffle=True)\n",
        "\n",
        "  # Validation set to tensor\n",
        "  X_val_tensor = torch.tensor(X_val_scaled, dtype=torch.float32).to(device)\n",
        "  y_val_tensor = torch.tensor(y_val, dtype=torch.float32).view(-1, 1).to(device)\n",
        "\n",
        "  # Weighted loss\n",
        "  weight = len(y_train) / (2 * sum(y_train))\n",
        "  pos_weight = torch.tensor([1]).to(device)\n",
        "  criterion = nn.BCEWithLogitsLoss(pos_weight=pos_weight)\n",
        "  model = SimpleNet(len(features)).to(device)\n",
        "  optimizer = optim.Adam(model.parameters(), lr=1e-2)\n",
        "\n",
        "  # Train model\n",
        "  model = train_model(model, criterion, optimizer, dataloader, epochs=10000)\n",
        "\n",
        "  # Evaluate Network\n",
        "  accuracy, recall, f1 = evaluate_model(model, X_val_tensor, y_val_tensor, True)\n",
        "\n",
        "  accuracies.append(accuracy)\n",
        "  f1s.append(f1)\n",
        "  recalls.append(recall)\n"
      ]
    },
    {
      "cell_type": "code",
      "execution_count": null,
      "metadata": {
        "colab": {
          "base_uri": "https://localhost:8080/"
        },
        "id": "xw2UAj7VQXSY",
        "outputId": "ac984f89-a2b7-4a97-8c6a-d0721d0fb7e4"
      },
      "outputs": [
        {
          "output_type": "stream",
          "name": "stdout",
          "text": [
            "Average Accuracy:  0.7187555555555555\n",
            "Average Recall:  0.7999559776600587\n",
            "Average F1:  0.6004924738760062\n",
            "Std Accuracy:  0.006044444444444442\n",
            "Std Recall:  0.025500630082527852\n",
            "Std F1:  0.007053062374175341\n"
          ]
        }
      ],
      "source": [
        "# Print average accuracy, recall and f1\n",
        "print(\"Average Accuracy: \", np.mean(accuracies))\n",
        "print(\"Average Recall: \", np.mean(recalls))\n",
        "print(\"Average F1: \", np.mean(f1s))\n",
        "\n",
        "# Print Std of accuracy recall and f1\n",
        "print(\"Std Accuracy: \", np.std(accuracies))\n",
        "print(\"Std Recall: \", np.std(recalls))\n",
        "print(\"Std F1: \", np.std(f1s))"
      ]
    },
    {
      "cell_type": "markdown",
      "metadata": {
        "id": "exjsurZUTvMK"
      },
      "source": [
        "## Feature Importance\n"
      ]
    },
    {
      "cell_type": "code",
      "execution_count": null,
      "metadata": {
        "colab": {
          "base_uri": "https://localhost:8080/"
        },
        "id": "87OQutOefYbL",
        "outputId": "a08bf0b2-7239-43ef-e21b-efa4b7eea54a"
      },
      "outputs": [
        {
          "output_type": "stream",
          "name": "stdout",
          "text": [
            "[0, 1, 2, 3, 4, 5, 6, 7, 8, 9, 10, 11, 12, 13, 14, 15, 16, 17, 18, 19, 20, 21, 22, 23, 24, 25, 26, 27, 28, 29]\n",
            "0\n",
            "[0, 1, 2, 4, 5, 6, 7, 8, 9, 10, 11, 12, 13, 14, 15, 16, 17, 18, 19, 20, 21, 22, 23, 24, 25, 26, 27, 28, 29]\n",
            "0.6889074228523769\n"
          ]
        }
      ],
      "source": [
        "good_features = list(range(X.shape[1]))  # Start with all features\n",
        "best_recall = 0\n",
        "\n",
        "# pick one fold as the validation fold\n",
        "i = random.randint(0, 4)\n",
        "train_idx = folds[i][0]\n",
        "val_idx = folds[i][1]\n",
        "max_iters = 10\n",
        "\n",
        "for i in range(max_iters):\n",
        "  print(good_features)\n",
        "  print(best_recall)\n",
        "  recalls = np.zeros(len(good_features))\n",
        "\n",
        "  for j, feature in enumerate(good_features):\n",
        "    features = good_features.copy()\n",
        "    features.remove(feature)\n",
        "\n",
        "    # Skip if no features left\n",
        "    if len(features) == 0:\n",
        "      continue\n",
        "\n",
        "    # get only those features (train and val)\n",
        "    X_train = X[train_idx][:, features]\n",
        "    y_train = y[train_idx]\n",
        "\n",
        "    X_val = X[val_idx][:, features]\n",
        "    y_val = y[val_idx]\n",
        "\n",
        "    #X_train, y_train = downsample(X_train, y_train)\n",
        "\n",
        "    # Scale Data using only train set\n",
        "    X_train_scaled, X_val_scaled = scale_data(X_train, X_val)\n",
        "\n",
        "    X_val_tensor = torch.tensor(X_val_scaled, dtype=torch.float32).to(device)\n",
        "    y_val_tensor = torch.tensor(y_val, dtype=torch.float32).view(-1, 1).to(device)\n",
        "\n",
        "    X_train_tensor = torch.tensor(X_train_scaled, dtype=torch.float32).to(device)\n",
        "    y_train_tensor = torch.tensor(y_train, dtype=torch.float32).unsqueeze(1).to(device)\n",
        "\n",
        "    subset = TensorDataset(X_train_tensor, y_train_tensor)\n",
        "    dataloader = DataLoader(subset, batch_size=32, shuffle=True)\n",
        "\n",
        "    # Reinitialize the model and optimizer\n",
        "    model = SimpleNet(len(features)).to(device)\n",
        "    optimizer = optim.Adam(model.parameters(), lr=1e-2)\n",
        "\n",
        "    # Train model\n",
        "    model = train_model(model, criterion, optimizer, dataloader, epochs=1000)\n",
        "\n",
        "    # Evaluate Network Train\n",
        "    accuracy, recall, f1 = evaluate_model(model, X_train_tensor, y_train_tensor, False)\n",
        "\n",
        "    # log recall\n",
        "    recalls[j] = recall\n",
        "\n",
        "  if max(recalls) > best_recall:\n",
        "    best_recall = max(recalls)\n",
        "    worst_index = np.argmax(recalls)\n",
        "    feature_to_remove = good_features[worst_index]\n",
        "    good_features.remove(feature_to_remove)\n",
        "  else:\n",
        "    break\n",
        "\n",
        "# Found that we only need features: [0, 1, 2, 4, 5, 6, 7, 8, 9, 10, 11, 12, 13, 14, 15, 16, 17, 18, 19, 20, 21, 22, 23, 24, 25, 26, 27, 28, 29]"
      ]
    },
    {
      "cell_type": "markdown",
      "metadata": {
        "id": "z3G5IB6tPHAi"
      },
      "source": [
        "## Learning Curves"
      ]
    },
    {
      "cell_type": "code",
      "execution_count": null,
      "metadata": {
        "colab": {
          "base_uri": "https://localhost:8080/"
        },
        "id": "_9nITFghPGbt",
        "outputId": "b4565859-bb3c-445f-aa6d-e7b9df5588c5"
      },
      "outputs": [
        {
          "output_type": "stream",
          "name": "stderr",
          "text": [
            "100%|██████████| 10/10 [07:39<00:00, 45.91s/it]\n"
          ]
        }
      ],
      "source": [
        "import random\n",
        "\n",
        "repetitions = 3\n",
        "partition_sizes = np.linspace(0.1, 1, 10)\n",
        "\n",
        "validation_errors = np.zeros((repetitions, len(partition_sizes)))\n",
        "training_errors = np.zeros((repetitions, len(partition_sizes)))\n",
        "\n",
        "# pick one fold as the validation fold\n",
        "i = random.randint(0,4)\n",
        "train_idx = folds[i][0]\n",
        "val_idx = folds[i][1]\n",
        "\n",
        "# Validation set to tensor\n",
        "X_val = X[val_idx]\n",
        "y_val = y[val_idx]\n",
        "\n",
        "\n",
        "for p in tqdm(range(len(partition_sizes))):\n",
        "  for r in range(repetitions):\n",
        "    # randomly sample p% of train set\n",
        "    train_size = int(partition_sizes[p] * len(train_idx))\n",
        "    train_idx_sample = random.sample(list(train_idx), train_size)\n",
        "\n",
        "    # Put data into tensors\n",
        "    X_train = X[train_idx_sample]\n",
        "    y_train = y[train_idx_sample]\n",
        "    #X_train, y_train = downsample(X_train, y_train)\n",
        "\n",
        "    # Scale Data using only train set\n",
        "    X_train_scaled, X_val_scaled = scale_data(X_train, X_val)\n",
        "\n",
        "    X_val_tensor = torch.tensor(X_val_scaled, dtype=torch.float32).to(device)\n",
        "    y_val_tensor = torch.tensor(y_val, dtype=torch.float32).view(-1, 1).to(device)\n",
        "\n",
        "    X_train_tensor = torch.tensor(X_train_scaled, dtype=torch.float32).to(device)\n",
        "    y_train_tensor = torch.tensor(y_train, dtype=torch.float32).unsqueeze(1).to(device)\n",
        "\n",
        "    subset = TensorDataset(X_train_tensor, y_train_tensor)\n",
        "    dataloader = DataLoader(subset, batch_size=32, shuffle=True)\n",
        "\n",
        "    # Reinitialize the model and optimizer for each train size\n",
        "    model = SimpleNet(X.shape[1]).to(device)\n",
        "    optimizer = optim.Adam(model.parameters(), lr=1e-2)\n",
        "\n",
        "    weight = len(y_train) / (2 * sum(y_train))\n",
        "    pos_weight = torch.tensor([1]).to(device)\n",
        "    criterion = nn.BCEWithLogitsLoss(pos_weight=pos_weight)\n",
        "\n",
        "    # Train model\n",
        "    model = train_model(model, criterion, optimizer, dataloader, epochs=1000)\n",
        "\n",
        "    # Evaluate Network Train\n",
        "    accuracy, recall, f1 = evaluate_model(model, X_train_tensor, y_train_tensor, False)\n",
        "    training_errors[r, p] = 1 - accuracy\n",
        "\n",
        "    # Evaluate Network Val\n",
        "    accuracy, recall, f1 = evaluate_model(model, X_val_tensor, y_val_tensor, False)\n",
        "    validation_errors[r, p] = 1 - accuracy"
      ]
    },
    {
      "cell_type": "code",
      "execution_count": null,
      "metadata": {
        "colab": {
          "base_uri": "https://localhost:8080/",
          "height": 607
        },
        "id": "-d5phkOZVGCI",
        "outputId": "9ab6a548-9002-4886-d40a-857cbe4933b1"
      },
      "outputs": [
        {
          "output_type": "display_data",
          "data": {
            "text/plain": [
              "<Figure size 1000x600 with 1 Axes>"
            ],
            "image/png": "[encoded data removed]"
          },
          "metadata": {}
        }
      ],
      "source": [
        "import matplotlib.pyplot as plt\n",
        "\n",
        "train_mean = np.mean(training_errors, axis=0)\n",
        "train_std = np.std(training_errors, axis=0)\n",
        "\n",
        "val_mean = np.mean(validation_errors, axis=0)\n",
        "val_std = np.std(validation_errors, axis=0)\n",
        "\n",
        "x = partition_sizes\n",
        "\n",
        "plt.figure(figsize=(10, 6))\n",
        "\n",
        "# Plot training curve\n",
        "plt.plot(x, train_mean, label=\"Training\", color=\"blue\")\n",
        "plt.fill_between(x, train_mean - train_std, train_mean + train_std, color=\"blue\", alpha=0.2)\n",
        "\n",
        "plt.hlines(0.2317, xmin = 0, xmax = 1, label= \"Majority Class Baseline (0.2653)\", linestyles='dashed', colors='green')\n",
        "\n",
        "# Plot validation curve\n",
        "plt.plot(x, val_mean, label=\"Validation\", color=\"orange\")\n",
        "plt.fill_between(x, val_mean - val_std, val_mean + val_std, color=\"orange\", alpha=0.2)\n",
        "\n",
        "plt.xlabel(\"Training Size Index\")\n",
        "plt.ylabel(\"Error\")\n",
        "plt.title(\"Learning Curve: Training vs. Validation\")\n",
        "plt.legend()\n",
        "plt.grid(True)\n",
        "plt.tight_layout()\n",
        "plt.show()"
      ]
    },
    {
      "cell_type": "markdown",
      "source": [
        "## Final Training and Evaluation on Test Set"
      ],
      "metadata": {
        "id": "58P019SaRXKK"
      }
    },
    {
      "cell_type": "code",
      "source": [
        "# Get all train indices\n",
        "train_indices = folds[1][0] + folds[1][1]\n",
        "\n",
        "X_train = X[train_indices]\n",
        "y_train = y[train_indices]\n",
        "\n",
        "X_test = X[test_indices]\n",
        "y_test = y[test_indices]\n",
        "\n",
        "X_train, y_train = downsample(X_train, y_train)\n",
        "\n",
        "# Scale Data using only train set\n",
        "X_train_scaled, X_test_scaled = scale_data(X_train, X_test)\n",
        "\n",
        "X_test_tensor = torch.tensor(X_test_scaled, dtype=torch.float32).to(device)\n",
        "y_test_tensor = torch.tensor(y_test, dtype=torch.float32).view(-1, 1).to(device)\n",
        "\n",
        "X_train_tensor = torch.tensor(X_train_scaled, dtype=torch.float32).to(device)\n",
        "y_train_tensor = torch.tensor(y_train, dtype=torch.float32).unsqueeze(1).to(device)\n",
        "\n",
        "subset = TensorDataset(X_train_tensor, y_train_tensor)\n",
        "dataloader = DataLoader(subset, batch_size=32, shuffle=True)\n",
        "\n",
        "# Reinitialize the model and optimizer for each train size\n",
        "model = SimpleNet(X.shape[1]).to(device)\n",
        "optimizer = optim.Adam(model.parameters(), lr=1e-2)\n",
        "\n",
        "weight = len(y_train) / (2 * sum(y_train))\n",
        "pos_weight = torch.tensor([1]).to(device)\n",
        "criterion = nn.BCEWithLogitsLoss(pos_weight=pos_weight)\n",
        "\n",
        "# Train model\n",
        "model = train_model(model, criterion, optimizer, dataloader, epochs=1000)\n",
        "\n",
        "# Evaluate Model\n",
        "accuracy, recall, f1 = evaluate_model(model, X_test_tensor, y_test_tensor, False)\n",
        "\n",
        "model_classification_report(model, X_test_tensor, y_test_tensor)"
      ],
      "metadata": {
        "colab": {
          "base_uri": "https://localhost:8080/"
        },
        "id": "b8klWAB3RbbI",
        "outputId": "8a8cfa07-2aac-4fee-fc6e-72a91d7964bd"
      },
      "execution_count": null,
      "outputs": [
        {
          "output_type": "stream",
          "name": "stdout",
          "text": [
            "Classification Report:\n",
            "              precision    recall  f1-score   support\n",
            "\n",
            "           0       0.90      0.70      0.79      1026\n",
            "           1       0.50      0.79      0.61       381\n",
            "\n",
            "    accuracy                           0.73      1407\n",
            "   macro avg       0.70      0.75      0.70      1407\n",
            "weighted avg       0.79      0.73      0.74      1407\n",
            "\n"
          ]
        }
      ]
    },
    {
      "cell_type": "markdown",
      "source": [
        "## Export Model"
      ],
      "metadata": {
        "id": "WqQyOQmYcwPU"
      }
    },
    {
      "cell_type": "code",
      "source": [
        "torch.save(model.state_dict(), '/content/drive/MyDrive/Collab_Files/Churn_Prediction/best_NN.pkl')"
      ],
      "metadata": {
        "id": "7nWru2yfcvUG"
      },
      "execution_count": null,
      "outputs": []
    }
  ],
  "metadata": {
    "accelerator": "GPU",
    "colab": {
      "gpuType": "T4",
      "provenance": [],
      "authorship_tag": "ABX9TyN9Sb72FG285+r/l0HT0o/z",
      "include_colab_link": true
    },
    "kernelspec": {
      "display_name": "Python 3",
      "name": "python3"
    },
    "language_info": {
      "name": "python"
    }
  },
  "nbformat": 4,
  "nbformat_minor": 0
}